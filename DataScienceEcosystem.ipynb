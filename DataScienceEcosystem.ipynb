{
 "cells": [
  {
   "cell_type": "markdown",
   "metadata": {},
   "source": [
    "<center>\n",
    "    <img src=\"https://cf-courses-data.s3.us.cloud-object-storage.appdomain.cloud/IBMDeveloperSkillsNetwork-DS0105EN-SkillsNetwork/labs/Module2/images/SN_web_lightmode.png\" width=\"300\" alt=\"cognitiveclass.ai logo\">\n",
    "</center>\n"
   ]
  },
  {
   "cell_type": "markdown",
   "metadata": {},
   "source": [
    "#### Add your code below following the instructions given in the course\n"
   ]
  },
  {
   "cell_type": "markdown",
   "metadata": {},
   "source": [
    "# Data Science Tools and Ecosystem"
   ]
  },
  {
   "cell_type": "markdown",
   "metadata": {},
   "source": [
    "In this notebook, we will summarize the tools and ecosystem used in Data Science. Data Science is a rapidly evolving field, and to succeed in it, it is essential to grasp the various tools and infrastructure available. In the following paragraphs, we will explore the different tools and technologies that support data analysis, modeling, and gaining profound insights from data. With a solid understanding of these tools, readers will be prepared to embark on their exciting journey in the world of Data Science."
   ]
  },
  {
   "cell_type": "markdown",
   "metadata": {},
   "source": [
    "Some of the popular languages that Data Scientists use are:\n",
    "\n",
    "1. Python: Python is arguably the most widely used programming language in Data Science. Its simplicity, vast ecosystem of libraries (such as NumPy, pandas, and scikit-learn), and readability make it a top choice for tasks like data manipulation, analysis, and machine learning.\n",
    "\n",
    "2. R: R is a specialized language for statistical computing and graphics. It excels in data visualization, statistical analysis, and has a strong community of users and packages tailored for Data Science.\n",
    "\n",
    "3. SQL: SQL (Structured Query Language) is essential for working with relational databases, which are a common source of data in Data Science. Data Scientists often use SQL to query, retrieve, and manipulate data stored in databases.\n",
    "\n",
    "4. Julia (optional): Julia is an emerging language known for its high performance in numerical and scientific computing. While not as widely adopted as Python or R, it's gaining traction in the Data Science community for its speed and ease of use for computationally intensive tasks.\n",
    "\n",
    "These languages provide Data Scientists with powerful tools to handle data, conduct analyses, and build machine learning models, depending on the specific requirements of their projects.\n"
   ]
  },
  {
   "cell_type": "markdown",
   "metadata": {},
   "source": [
    "Some of the commonly used libraries used by Data Scientists include:\n",
    "\n",
    "1. **NumPy**: NumPy is a fundamental library for numerical computing in Python. It provides support for large, multi-dimensional arrays and matrices, along with a variety of mathematical functions to operate on these arrays efficiently.\n",
    "\n",
    "2. **pandas**: pandas is a powerful library for data manipulation and analysis. It offers data structures like DataFrames and Series, making it easier to handle and explore structured data. Data cleaning, transformation, and exploration are made more accessible with pandas.\n",
    "\n",
    "3. **scikit-learn**: scikit-learn is a machine learning library for Python that provides simple and efficient tools for data mining and data analysis. It offers a wide range of machine learning algorithms for tasks like classification, regression, clustering, and more.\n",
    "\n",
    "4. **Matplotlib**: Matplotlib is a popular library for creating static, animated, and interactive visualizations in Python. It provides a flexible and customizable framework for creating various types of plots and charts.\n",
    "\n",
    "5. **Seaborn**: Seaborn is built on top of Matplotlib and offers a higher-level interface for creating attractive and informative statistical graphics. It is particularly useful for visualizing complex datasets with ease.\n",
    "\n",
    "6. **TensorFlow** and **PyTorch**: These deep learning frameworks are essential for building and training neural networks. TensorFlow and PyTorch are widely used for tasks like image recognition, natural language processing, and reinforcement learning.\n",
    "\n",
    "7. **SQLAlchemy**: SQLAlchemy is a Python SQL toolkit and Object-Relational Mapping (ORM) library. Data Scientists use it to interact with databases, allowing them to integrate SQL databases seamlessly into their data analysis workflows.\n",
    "\n",
    "These libraries are crucial for Data Scientists, as they provide the necessary tools and capabilities to work with data effectively, perform analysis, and develop machine learning models.\n"
   ]
  },
  {
   "cell_type": "markdown",
   "metadata": {},
   "source": [
    "| Data Science Tools |\n",
    "|-------------------|\n",
    "| Jupyter Notebook  |\n",
    "| RStudio           |\n",
    "| Visual Studio Code|\n"
   ]
  },
  {
   "cell_type": "markdown",
   "metadata": {},
   "source": [
    "### Below are a few examples of evaluating arithmetic expressions in Python\n"
   ]
  },
  {
   "cell_type": "code",
   "execution_count": 1,
   "metadata": {},
   "outputs": [
    {
     "data": {
      "text/plain": [
       "17"
      ]
     },
     "execution_count": 1,
     "metadata": {},
     "output_type": "execute_result"
    }
   ],
   "source": [
    "# This is a simple arithmetic expression to multiply then add integers.\n",
    "result = (3 * 4) + 5\n",
    "result\n"
   ]
  },
  {
   "cell_type": "code",
   "execution_count": 6,
   "metadata": {},
   "outputs": [
    {
     "data": {
      "text/plain": [
       "3.3333333333333335"
      ]
     },
     "execution_count": 6,
     "metadata": {},
     "output_type": "execute_result"
    }
   ],
   "source": [
    "# This will convert 200 minutes to hours by dividing by 60.\n",
    "minutes = 200\n",
    "hours = minutes / 60\n",
    "hours\n"
   ]
  },
  {
   "cell_type": "markdown",
   "metadata": {},
   "source": [
    "**Objectives:**\n",
    "\n",
    "- List popular languages for Data Science.\n",
    "- Highlight commonly used libraries in Data Science.\n",
    "- Perform basic arithmetic operations in code.\n",
    "- Convert minutes to hours using code.\n",
    "- Explore fundamental concepts in Data Science.\n"
   ]
  },
  {
   "cell_type": "markdown",
   "metadata": {},
   "source": [
    "## Author\n",
    "Yudha Mulyana\n"
   ]
  },
  {
   "cell_type": "markdown",
   "metadata": {},
   "source": [
    "**link github klik** <https://github.com/yudhamyn/DataScienceEcosystem-YudhaMulyana>"
   ]
  },
  {
   "cell_type": "code",
   "execution_count": null,
   "metadata": {},
   "outputs": [],
   "source": []
  }
 ],
 "metadata": {
  "kernelspec": {
   "display_name": "Python 3 (ipykernel)",
   "language": "python",
   "name": "python3"
  },
  "language_info": {
   "codemirror_mode": {
    "name": "ipython",
    "version": 3
   },
   "file_extension": ".py",
   "mimetype": "text/x-python",
   "name": "python",
   "nbconvert_exporter": "python",
   "pygments_lexer": "ipython3",
   "version": "3.11.4"
  }
 },
 "nbformat": 4,
 "nbformat_minor": 4
}
